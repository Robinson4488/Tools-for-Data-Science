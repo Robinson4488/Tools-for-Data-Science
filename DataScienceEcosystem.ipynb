{
 "cells": [
  {
   "cell_type": "markdown",
   "id": "ad7b7d16",
   "metadata": {},
   "source": [
    "# Data Science Tools and Ecosystem"
   ]
  },
  {
   "cell_type": "markdown",
   "id": "441aa1fa",
   "metadata": {},
   "source": [
    "In this notebook, Data Science Tools and Ecosystem are summarized."
   ]
  },
  {
   "cell_type": "markdown",
   "id": "6de92c78",
   "metadata": {},
   "source": [
    "\n",
    "Some of the popular languages that Data Scientists use are:\n",
    "1. Python\n",
    "2. R\n",
    "3. SQL\n",
    "4. Julia\n",
    "5. Scala\n"
   ]
  },
  {
   "cell_type": "markdown",
   "id": "c8ba3414",
   "metadata": {},
   "source": [
    "\n",
    "Some of the commonly used libraries used by Data Scientists include:\n",
    "1. Pandas\n",
    "2. NumPy\n",
    "3. Matplotlib\n",
    "4. Scikit-learn\n",
    "5. TensorFlow\n"
   ]
  },
  {
   "cell_type": "markdown",
   "id": "00866b24",
   "metadata": {},
   "source": [
    "\n",
    "| Data Science Tools |\n",
    "|--------------------|\n",
    "| Jupyter Notebook   |\n",
    "| RStudio            |\n",
    "| Apache Zeppelin    |\n"
   ]
  },
  {
   "cell_type": "markdown",
   "id": "5386f231",
   "metadata": {},
   "source": [
    "### Below are a few examples of evaluating arithmetic expressions in Python"
   ]
  },
  {
   "cell_type": "code",
   "execution_count": null,
   "id": "4bbc4aae",
   "metadata": {},
   "outputs": [],
   "source": [
    "\n",
    "# This a simple arithmetic expression to multiply then add integers\n",
    "(3*4) + 5\n"
   ]
  },
  {
   "cell_type": "code",
   "execution_count": 4,
   "id": "19d3dc0c",
   "metadata": {},
   "outputs": [],
   "source": [
    "\n",
    "# This will convert 200 minutes to hours by dividing by 60\n",
    "\n",
    "# Amount of minutes to convert\n",
    "total_minutes = 200\n",
    "\n",
    "# Conversion\n",
    "hours = total_minutes // 60  # Divide minutes by 60 to get the complete hours\n",
    "remaining_minutes = total_minutes % 60  # Get the remaining minutes\n",
    "\n",
    "# Display the result\n",
    "print(f\"{total_minutes} minutes is {hours} hours and {remaining_minutes} minutes.\")\n",
    "\n"
   ]
  },
  {
   "cell_type": "markdown",
   "id": "8d6ddbc7",
   "metadata": {},
   "source": [
    "\n",
    "**Objectives:**\n",
    "- List popular languages for Data Science\n",
    "- Introduce common libraries used in Data Science\n",
    "- Provide examples of basic arithmetic operations in Python\n",
    "- Convert minutes into hours\n"
   ]
  },
  {
   "cell_type": "markdown",
   "id": "017ffd8b",
   "metadata": {},
   "source": [
    "## Author\n",
    "Robinson Quintero Mesa."
   ]
  }
 ],
 "metadata": {
  "kernelspec": {
   "display_name": "Python 3",
   "language": "python",
   "name": "python3"
  },
  "language_info": {
   "codemirror_mode": {
    "name": "ipython",
    "version": 3
   },
   "file_extension": ".py",
   "mimetype": "text/x-python",
   "name": "python",
   "nbconvert_exporter": "python",
   "pygments_lexer": "ipython3",
   "version": "3.11.9"
  }
 },
 "nbformat": 4,
 "nbformat_minor": 5
}
